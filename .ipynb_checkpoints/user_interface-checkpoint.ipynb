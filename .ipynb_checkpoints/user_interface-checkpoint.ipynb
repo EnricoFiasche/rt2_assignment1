{
 "cells": [
  {
   "cell_type": "markdown",
   "id": "f09b2982",
   "metadata": {},
   "source": [
    "# Research Track II - Enrico Fiasché\n",
    "# User Interface\n",
    "## Initialize node"
   ]
  },
  {
   "cell_type": "code",
   "execution_count": 1,
   "id": "e84f7f22",
   "metadata": {
    "ExecuteTime": {
     "end_time": "2021-07-19T21:17:39.887839Z",
     "start_time": "2021-07-19T21:17:37.576998Z"
    }
   },
   "outputs": [
    {
     "name": "stdout",
     "output_type": "stream",
     "text": [
      "Connected!\n"
     ]
    }
   ],
   "source": [
    "import rospy\n",
    "import jupyros as jr\n",
    "import time\n",
    "from rt2_assignment1.srv import Command\n",
    "import actionlib\n",
    "import rt2_assignment1.msg\n",
    "from ipywidgets import Button, Layout, ButtonStyle, GridBox, VBox, HBox\n",
    "import ipywidgets as widgets\n",
    "from geometry_msgs.msg import Twist\n",
    "from nav_msgs.msg import Odometry\n",
    "\n",
    "rospy.init_node('user_interface')\n",
    "ui_client = rospy.ServiceProxy('/user_interface', Command)\n",
    "\n",
    "# action client used to cancel the goal\n",
    "action_client = actionlib.SimpleActionClient(\"go_to_point\",rt2_assignment1.msg.PositionAction)\n",
    "if(action_client.wait_for_server()):\n",
    "    print(\"Connected!\")\n",
    "else:\n",
    "    print(\"Unable to connect with the action server\")\n",
    "\n",
    "twist_pub = rospy.Publisher('/cmd_vel', Twist, queue_size=1)"
   ]
  },
  {
   "cell_type": "markdown",
   "id": "331d518b",
   "metadata": {},
   "source": [
    "## Start and Stop random targets"
   ]
  },
  {
   "cell_type": "code",
   "execution_count": 2,
   "id": "8a3e6021",
   "metadata": {
    "ExecuteTime": {
     "end_time": "2021-07-19T21:17:40.568025Z",
     "start_time": "2021-07-19T21:17:40.403414Z"
    }
   },
   "outputs": [
    {
     "data": {
      "application/vnd.jupyter.widget-view+json": {
       "model_id": "45bf3b5b22194b5bb662676e79166afb",
       "version_major": 2,
       "version_minor": 0
      },
      "text/plain": [
       "GridBox(children=(Button(description='START', layout=Layout(grid_area='b1', width='200'), style=ButtonStyle(bu…"
      ]
     },
     "metadata": {},
     "output_type": "display_data"
    },
    {
     "name": "stdout",
     "output_type": "stream",
     "text": [
      "We did it\n",
      "We did it ['Reached', 'Cancelled'] [0, 1]\n",
      "We did it ['Reached', 'Cancelled'] [1, 2]\n",
      "We did it ['Reached', 'Cancelled'] [1, 3]\n",
      "We did it ['Reached', 'Cancelled'] [0, 1]\n",
      "We did it ['Reached', 'Cancelled'] [0, 2]\n",
      "We did it ['Reached', 'Cancelled'] [1, 3]\n",
      "We did it ['Reached', 'Cancelled'] [1, 4]\n"
     ]
    }
   ],
   "source": [
    "from std_msgs.msg import Int32, Bool\n",
    "\n",
    "start_sim = Button(description='START',\n",
    "            layout=Layout(width='200', align=\"center\", grid_area='b1'),\n",
    "            style=ButtonStyle(button_color='lightgreen'))\n",
    "stop_sim = Button(description='STOP',\n",
    "            layout=Layout(width='200', align=\"center\", grid_area='b2'),\n",
    "            style=ButtonStyle(button_color='salmon'))\n",
    "\n",
    "HBox([start_sim,stop_sim])\n",
    "\n",
    "grid = GridBox(children=[start_sim, stop_sim],\n",
    "        layout=Layout(\n",
    "        width='40%',\n",
    "        grid_template_rows='auto auto',\n",
    "        grid_template_columns='33% 15% 33%',\n",
    "        grid_template_areas=''' \"b1 . b2 \" ''')\n",
    "        )\n",
    "\n",
    "display(grid)\n",
    "starting_time = 0\n",
    "\n",
    "def start(event):\n",
    "    global starting_time\n",
    "    \n",
    "    ui_client(\"start\")\n",
    "    starting_time = rospy.Time.now()\n",
    "    \n",
    "def stop(event):\n",
    "    action_client.cancel_all_goals()\n",
    "    ui_client(\"stop\")\n",
    "    \n",
    "start_sim.on_click(start)\n",
    "stop_sim.on_click(stop)"
   ]
  },
  {
   "cell_type": "markdown",
   "id": "ce59b525",
   "metadata": {
    "heading_collapsed": true
   },
   "source": [
    "## Sliders"
   ]
  },
  {
   "cell_type": "code",
   "execution_count": 3,
   "id": "9463608e",
   "metadata": {
    "ExecuteTime": {
     "end_time": "2021-07-19T21:08:36.187334Z",
     "start_time": "2021-07-19T21:08:35.961439Z"
    },
    "hidden": true
   },
   "outputs": [
    {
     "data": {
      "application/vnd.jupyter.widget-view+json": {
       "model_id": "a1c8670d7a234a1f8235439edc966193",
       "version_major": 2,
       "version_minor": 0
      },
      "text/plain": [
       "HBox(children=(VBox(children=(FloatSlider(value=0.2, description='linear_velocity', max=0.5), FloatSlider(valu…"
      ]
     },
     "metadata": {},
     "output_type": "display_data"
    }
   ],
   "source": [
    "import ipywidgets as widgets\n",
    "\n",
    "linear_slider = widgets.FloatSlider(value=0.2, min=0, max=0.5, step=0.1, description='linear_velocity')\n",
    "angular_slider = widgets.FloatSlider(value=-3.0, min=-5.0, max=0, step=0.5, description='angular_velocity')\n",
    "lin_vel = linear_slider.value\n",
    "ang_vel = angular_slider.value\n",
    "\n",
    "def on_linear_change(change):\n",
    "    global lin_vel, ang_vel\n",
    "    \n",
    "    const_twist = Twist()\n",
    "    lin_vel = change['new']\n",
    "    const_twist.linear.x = lin_vel\n",
    "    const_twist.angular.z = ang_vel\n",
    "    pub_consts.publish(const_twist)\n",
    "    \n",
    "def on_angular_change(change):\n",
    "    global lin_vel, ang_vel\n",
    "    \n",
    "    const_twist = Twist()\n",
    "    ang_vel = change['new']\n",
    "    const_twist.linear.x = lin_vel\n",
    "    const_twist.angular.z = ang_vel\n",
    "    pub_consts.publish(const_twist)\n",
    "\n",
    "pub_consts = rospy.Publisher('/consts', Twist, queue_size=1)\n",
    "linear_slider.observe(on_linear_change, names='value')\n",
    "angular_slider.observe(on_angular_change, names='value')\n",
    "\n",
    "widgets.HBox([widgets.VBox([linear_slider, angular_slider])])"
   ]
  },
  {
   "cell_type": "markdown",
   "id": "7eceafff",
   "metadata": {
    "heading_collapsed": true
   },
   "source": [
    "## Controller"
   ]
  },
  {
   "cell_type": "code",
   "execution_count": 4,
   "id": "a32a459b",
   "metadata": {
    "ExecuteTime": {
     "end_time": "2021-07-19T20:15:24.021539Z",
     "start_time": "2021-07-19T20:15:23.961642Z"
    },
    "hidden": true
   },
   "outputs": [
    {
     "data": {
      "application/vnd.jupyter.widget-view+json": {
       "model_id": "d85ea4af695b41b8968b72ea3524d67b",
       "version_major": 2,
       "version_minor": 0
      },
      "text/plain": [
       "GridBox(children=(Button(description='^', layout=Layout(grid_area='b1', width='auto'), style=ButtonStyle(butto…"
      ]
     },
     "metadata": {},
     "output_type": "display_data"
    }
   ],
   "source": [
    "up_arrow = Button(description='^',\n",
    "            layout=Layout(width='auto', align=\"center\", grid_area='b1'),\n",
    "            style=ButtonStyle(button_color='lightgreen'))\n",
    "down_arrow = Button(description='v',\n",
    "            layout=Layout(width='auto', align=\"center\", grid_area='b5'),\n",
    "            style=ButtonStyle(button_color='lightgreen'))\n",
    "left_arrow = Button(description='<',\n",
    "            layout=Layout(width='auto', align=\"center\", grid_area='b2'),\n",
    "            style=ButtonStyle(button_color='lightgreen'))\n",
    "right_arrow = Button(description='>',\n",
    "            layout=Layout(width='auto', align=\"center\", grid_area='b4'),\n",
    "            style=ButtonStyle(button_color='lightgreen'))\n",
    "stopRobot_button = Button(description='STOP',\n",
    "            layout=Layout(width='auto', align=\"center\", grid_area='b3'),\n",
    "            style=ButtonStyle(button_color='salmon'))\n",
    "\n",
    "controller_grid = GridBox(children=[up_arrow,down_arrow,left_arrow,right_arrow,stopRobot_button],\n",
    "        layout=Layout(\n",
    "        width='40%',\n",
    "        grid_template_rows='auto auto',\n",
    "        grid_template_columns='25% 10% 20% 20% 20%',\n",
    "        grid_template_areas='''\n",
    "        \". . . b1 . \"\n",
    "        \"b3 . b2 b5 b4\"\n",
    "        ''')\n",
    "        )\n",
    "\n",
    "def up(event):\n",
    "    global lin_vel\n",
    "    \n",
    "    action_client.cancel_all_goals()\n",
    "    ui_client(\"stop\")\n",
    "    twist_msg = Twist()\n",
    "    twist_msg.linear.x = lin_vel\n",
    "    twist_msg.angular.z = 0.0\n",
    "    twist_pub.publish(twist_msg)\n",
    "\n",
    "def down(event):\n",
    "    global lin_vel\n",
    "    \n",
    "    action_client.cancel_all_goals()\n",
    "    ui_client(\"stop\")\n",
    "    twist_msg = Twist()\n",
    "    twist_msg.linear.x = -lin_vel\n",
    "    twist_msg.angular.z = 0.0\n",
    "    twist_pub.publish(twist_msg)\n",
    "\n",
    "def left(event):\n",
    "    global ang_vel\n",
    "    \n",
    "    action_client.cancel_all_goals()\n",
    "    ui_client(\"stop\")\n",
    "    twist_msg = Twist()\n",
    "    twist_msg.linear.x = 0.0\n",
    "    twist_msg.angular.z = ang_vel\n",
    "    twist_pub.publish(twist_msg)\n",
    "    \n",
    "def right(event):\n",
    "    global ang_vel\n",
    "    \n",
    "    action_client.cancel_all_goals()\n",
    "    ui_client(\"stop\")\n",
    "    twist_msg = Twist()\n",
    "    twist_msg.linear.x = 0.0\n",
    "    twist_msg.angular.z = -ang_vel\n",
    "    twist_pub.publish(twist_msg)\n",
    "    \n",
    "def stopRobot(event):\n",
    "    global lin_vel, ang_vel\n",
    "    \n",
    "    action_client.cancel_all_goals()\n",
    "    ui_client(\"stop\")\n",
    "    twist_msg = Twist()\n",
    "    twist_msg.linear.x = 0.0\n",
    "    twist_msg.angular.z = 0.0\n",
    "    twist_pub.publish(twist_msg)\n",
    "    \n",
    "display(controller_grid)\n",
    "\n",
    "up_arrow.on_click(up)\n",
    "down_arrow.on_click(down)\n",
    "left_arrow.on_click(left)\n",
    "right_arrow.on_click(right)\n",
    "stopRobot_button.on_click(stopRobot)"
   ]
  },
  {
   "cell_type": "markdown",
   "id": "4fdfc998",
   "metadata": {},
   "source": [
    "# Graphical Information"
   ]
  },
  {
   "cell_type": "markdown",
   "id": "37151779",
   "metadata": {
    "ExecuteTime": {
     "end_time": "2021-07-19T12:13:06.240773Z",
     "start_time": "2021-07-19T12:13:06.235890Z"
    }
   },
   "source": [
    "## Cmd_vel vs Actual Velocity"
   ]
  },
  {
   "cell_type": "code",
   "execution_count": 9,
   "id": "8bcda0a8",
   "metadata": {
    "ExecuteTime": {
     "end_time": "2021-07-19T21:22:26.909299Z",
     "start_time": "2021-07-19T21:22:26.141949Z"
    },
    "scrolled": true
   },
   "outputs": [
    {
     "data": {
      "application/vnd.jupyter.widget-view+json": {
       "model_id": "f80e36715e224323a4ebcb89346d159e",
       "version_major": 2,
       "version_minor": 0
      },
      "text/plain": [
       "Canvas(toolbar=Toolbar(toolitems=[('Home', 'Reset original view', 'home', 'home'), ('Back', 'Back to previous …"
      ]
     },
     "metadata": {},
     "output_type": "display_data"
    },
    {
     "name": "stderr",
     "output_type": "stream",
     "text": [
      "Removing previous callback, only one redirection possible right now\n",
      "[WARN] [1626729746.695783, 280.351000]: Inbound TCP/IP connection failed: connection from sender terminated before handshake header received. 0 bytes were received. Please check sender for additional details.\n",
      "Removing previous callback, only one redirection possible right now\n"
     ]
    }
   ],
   "source": [
    "import numpy as np\n",
    "import matplotlib.pyplot as plt\n",
    "from matplotlib.animation import FuncAnimation\n",
    "%matplotlib widget\n",
    "\n",
    "fig_vel = plt.figure(1)\n",
    "ax_cmd = fig_vel.add_subplot(211)\n",
    "ax_odom = fig_vel.add_subplot(212)\n",
    "\"\"\"\n",
    "fig_vel, (ax_cmd, ax_odom) = plt.subplots(2)\n",
    "plot_cmd_lin, = ax_cmd.plot([], [])\n",
    "plot_cmd_ang, = ax_cmd.plot([], [])\n",
    "plot_odom_lin, = ax_odom.plot([], [])\n",
    "plot_odom_ang, = ax_odom.plot([], [])\n",
    "\"\"\"\n",
    "plot_cmd_lin, = ax_cmd.plot([], [])\n",
    "plot_cmd_ang, = ax_odom.plot([], [])\n",
    "plot_odom_lin, = ax_cmd.plot([], [])\n",
    "plot_odom_ang, = ax_odom.plot([], [])\n",
    "\n",
    "plots = [plot_cmd_lin, plot_cmd_ang, plot_odom_lin, plot_odom_ang]\n",
    "\n",
    "ax_cmd.set(xlabel='Time', ylabel='Amplitude')\n",
    "ax_odom.set(xlabel='Time', ylabel='Amplitude')\n",
    "\n",
    "time_cmd, time_odom, lin_cmd, ang_cmd, lin_odom, ang_odom = [], [], [], [], [], []\n",
    "\n",
    "\n",
    "def cmd_callback(cmd_msg):\n",
    "    global lin_cmd, ang_cmd, time_cmd\n",
    "    \n",
    "    lin_cmd.append(cmd_msg.linear.x)\n",
    "    ang_cmd.append(cmd_msg.angular.z)\n",
    "\n",
    "    if(len(time_cmd) == 0):\n",
    "        time_cmd.append(0.05)\n",
    "    else:\n",
    "        time_cmd.append(time_cmd[len(time_cmd)-1]+0.05)\n",
    "\n",
    "def odom_callback_velocity(odom_msg):\n",
    "    global lin_odom, ang_odom, time_odom\n",
    "    \n",
    "    lin_odom.append(odom_msg.twist.twist.linear.x)\n",
    "    ang_odom.append(odom_msg.twist.twist.angular.z)\n",
    "    \n",
    "    if(len(time_odom) == 0):\n",
    "        time_odom.append(0.05)\n",
    "    else:\n",
    "        time_odom.append(time_odom[len(time_odom)-1]+0.05)\n",
    "    \n",
    "def plot_init():\n",
    "   \n",
    "    ax_cmd.set_xlim(0,5)\n",
    "    ax_cmd.set_ylim(-1.0,1.0)\n",
    "    \n",
    "    ax_odom.set_xlim(0,5)\n",
    "    ax_odom.set_ylim(-1.0,1.0)\n",
    "\n",
    "    return plots,\n",
    "\n",
    "def update_plot(frame):\n",
    "\n",
    "    xmin, xmax = ax_cmd.get_xlim()\n",
    "    if time_cmd[len(time_cmd)-1] > xmax:\n",
    "        ax_cmd.set_xlim(xmin,2*xmax)\n",
    "        ax_cmd.figure.canvas.draw()\n",
    "\n",
    "    xmin, xmax = ax_odom.get_xlim()\n",
    "    if time_odom[len(time_odom)-1] > xmax:\n",
    "        ax_odom.set_xlim(xmin,2*xmax)\n",
    "        ax_odom.figure.canvas.draw()\n",
    "\n",
    "    plot_cmd_lin.set_data(time_cmd, lin_cmd)\n",
    "    plot_cmd_ang.set_data(time_cmd, ang_cmd)\n",
    "    \n",
    "    plot_odom_lin.set_data(time_odom, lin_odom)\n",
    "    plot_odom_ang.set_data(time_odom, ang_odom)\n",
    "    \n",
    "    return plots,\n",
    "\n",
    "jr.subscribe('/cmd_vel', Twist, cmd_callback)\n",
    "jr.subscribe('/odom', Odometry, odom_callback_velocity)\n",
    "\n",
    "ani = FuncAnimation(fig_vel, update_plot, init_func=plot_init)\n",
    "plt.show()"
   ]
  },
  {
   "cell_type": "markdown",
   "id": "b3de86eb",
   "metadata": {
    "ExecuteTime": {
     "end_time": "2021-07-18T14:02:17.367182Z",
     "start_time": "2021-07-18T14:02:17.361004Z"
    }
   },
   "source": [
    "## Plot targets reached and cancelled"
   ]
  },
  {
   "cell_type": "code",
   "execution_count": 8,
   "id": "7524d45b",
   "metadata": {
    "ExecuteTime": {
     "end_time": "2021-07-19T21:21:52.670139Z",
     "start_time": "2021-07-19T21:21:52.390741Z"
    }
   },
   "outputs": [
    {
     "data": {
      "application/vnd.jupyter.widget-view+json": {
       "model_id": "cacafebb5911406699b809ea3cecd963",
       "version_major": 2,
       "version_minor": 0
      },
      "text/plain": [
       "Canvas(toolbar=Toolbar(toolitems=[('Home', 'Reset original view', 'home', 'home'), ('Back', 'Back to previous …"
      ]
     },
     "metadata": {},
     "output_type": "display_data"
    },
    {
     "name": "stderr",
     "output_type": "stream",
     "text": [
      "Removing previous callback, only one redirection possible right now\n"
     ]
    },
    {
     "data": {
      "application/vnd.jupyter.widget-view+json": {
       "model_id": "e00580d3c1f94e2f8dbf23759f6f8e87",
       "version_major": 2,
       "version_minor": 0
      },
      "text/plain": [
       "VBox(children=(HBox(children=(Button(description='Stop', style=ButtonStyle()),)), Output(layout=Layout(border=…"
      ]
     },
     "metadata": {},
     "output_type": "display_data"
    }
   ],
   "source": [
    "from std_msgs.msg import Int32\n",
    "import numpy as np\n",
    "import matplotlib.pyplot as plt\n",
    "from matplotlib.animation import FuncAnimation\n",
    "%matplotlib widget\n",
    "\n",
    "names = [\"Reached\",\"Cancelled\"]\n",
    "values = [0,0]\n",
    "c = [\"lightgreen\",\"salmon\"]\n",
    "\n",
    "fig_targets = plt.figure(2) \n",
    "ax_targets = fig_targets.add_subplot(111)\n",
    "bar_plot = ax_targets.bar(names,values, color=c)\n",
    "\n",
    "plt.title('Number of target reached and cancelled')\n",
    "plt.xlabel('Numbers')\n",
    "\n",
    "def target_callback(msg):\n",
    "    global values, bar_plot, ax_targets\n",
    "\n",
    "    if(msg.data == 1):\n",
    "        values[0] += 1\n",
    "\n",
    "    elif(msg.data == 0):\n",
    "        values[1] += 1\n",
    "    \n",
    "    bar_plot.remove()\n",
    "    rospy.sleep(0.5)\n",
    "    bar_plot = ax_targets.bar(names,values, color=c)\n",
    "    print(\"We did it \"+str(names)+\" \"+str(values))\n",
    "\n",
    "jr.subscribe('stateResult', Int32, target_callback)\n",
    "#.show()"
   ]
  },
  {
   "cell_type": "markdown",
   "id": "9820b004",
   "metadata": {
    "heading_collapsed": true
   },
   "source": [
    "## Time required to reach a target"
   ]
  },
  {
   "cell_type": "code",
   "execution_count": 6,
   "id": "5cff5355",
   "metadata": {
    "ExecuteTime": {
     "end_time": "2021-07-19T09:05:14.079410Z",
     "start_time": "2021-07-19T09:05:13.934549Z"
    },
    "hidden": true
   },
   "outputs": [
    {
     "name": "stderr",
     "output_type": "stream",
     "text": [
      "Removing previous callback, only one redirection possible right now\n"
     ]
    },
    {
     "data": {
      "application/vnd.jupyter.widget-view+json": {
       "model_id": "37fdb741cd6546c6b4bbcb9b0dc2a96c",
       "version_major": 2,
       "version_minor": 0
      },
      "text/plain": [
       "VBox(children=(HBox(children=(Button(description='Stop', style=ButtonStyle()),)), Output(layout=Layout(border=…"
      ]
     },
     "metadata": {},
     "output_type": "display_data"
    }
   ],
   "source": [
    "import rospy # remember to delete it\n",
    "from std_msgs.msg import Int32, Bool\n",
    "\n",
    "def cb(msg):\n",
    "    global starting_time\n",
    "    \n",
    "    if(msg.data == 1):\n",
    "        finish_time = rospy.Time.now()\n",
    "        with out:\n",
    "            print(\"Time to reach = \"+str(finish_time.to_sec() - starting_time.to_sec()))\n",
    "        starting_time = rospy.Time.now()\n",
    "        \n",
    "out = widgets.Output()\n",
    "jr.subscribe('stateResult', Int32, cb)"
   ]
  },
  {
   "cell_type": "markdown",
   "id": "7b6dea48",
   "metadata": {
    "heading_collapsed": true
   },
   "source": [
    "# Robot position and orientation"
   ]
  },
  {
   "cell_type": "code",
   "execution_count": 5,
   "id": "c8af2132",
   "metadata": {
    "ExecuteTime": {
     "end_time": "2021-07-19T12:04:10.231938Z",
     "start_time": "2021-07-19T12:04:10.025993Z"
    },
    "hidden": true
   },
   "outputs": [
    {
     "data": {
      "application/vnd.jupyter.widget-view+json": {
       "model_id": "9128eb74ccb84fec93c8f00198354877",
       "version_major": 2,
       "version_minor": 0
      },
      "text/plain": [
       "Canvas(toolbar=Toolbar(toolitems=[('Home', 'Reset original view', 'home', 'home'), ('Back', 'Back to previous …"
      ]
     },
     "metadata": {},
     "output_type": "display_data"
    }
   ],
   "source": [
    "from nav_msgs.msg import Odometry\n",
    "import numpy as np\n",
    "import matplotlib.pyplot as plt\n",
    "from matplotlib.animation import FuncAnimation\n",
    "from tf.transformations import quaternion_matrix\n",
    "%matplotlib widget\n",
    "\n",
    "fig = plt.figure()\n",
    "ax = fig.add_subplot()\n",
    "#odom_fig, odom_ax = plt.subplots()\n",
    "plot_odom, = plt.plot([], [], 'ro')\n",
    "x_data, y_data = [] , []\n",
    "\n",
    "def plot_init():\n",
    "    #odom_ax.set_xlim(-5, 5)\n",
    "    #odom_ax.set_ylim(-5, 5)\n",
    "    ax.set_xlim(-5, 5)\n",
    "    ax.set_ylim(-5, 5)\n",
    "    plot_odom.set_data([],[])\n",
    "    \n",
    "    return plot_odom,\n",
    "\n",
    "def odom_callback(msg):\n",
    "    global x_data, y_data\n",
    "    \n",
    "    y_data.append(msg.pose.pose.position.y)\n",
    "    x_data.append(msg.pose.pose.position.x)\n",
    "\n",
    "def update_plot(frame):\n",
    "    plot_odom.set_data(x_data, y_data) \n",
    "    return plot_odom,\n",
    "\n",
    "rospy.Subscriber('/odom', Odometry, odom_callback)\n",
    "ani = FuncAnimation(fig, update_plot, init_func=plot_init)\n",
    "plt.show()"
   ]
  },
  {
   "cell_type": "code",
   "execution_count": null,
   "id": "42603946",
   "metadata": {
    "hidden": true
   },
   "outputs": [],
   "source": []
  }
 ],
 "metadata": {
  "hide_input": false,
  "kernelspec": {
   "display_name": "Python 3 (ipykernel)",
   "language": "python",
   "name": "python3"
  },
  "language_info": {
   "codemirror_mode": {
    "name": "ipython",
    "version": 3
   },
   "file_extension": ".py",
   "mimetype": "text/x-python",
   "name": "python",
   "nbconvert_exporter": "python",
   "pygments_lexer": "ipython3",
   "version": "3.8.5"
  },
  "varInspector": {
   "cols": {
    "lenName": 16,
    "lenType": 16,
    "lenVar": 40
   },
   "kernels_config": {
    "python": {
     "delete_cmd_postfix": "",
     "delete_cmd_prefix": "del ",
     "library": "var_list.py",
     "varRefreshCmd": "print(var_dic_list())"
    },
    "r": {
     "delete_cmd_postfix": ") ",
     "delete_cmd_prefix": "rm(",
     "library": "var_list.r",
     "varRefreshCmd": "cat(var_dic_list()) "
    }
   },
   "position": {
    "height": "144.85px",
    "left": "529px",
    "right": "20px",
    "top": "121px",
    "width": "350px"
   },
   "types_to_exclude": [
    "module",
    "function",
    "builtin_function_or_method",
    "instance",
    "_Feature"
   ],
   "window_display": false
  }
 },
 "nbformat": 4,
 "nbformat_minor": 5
}
