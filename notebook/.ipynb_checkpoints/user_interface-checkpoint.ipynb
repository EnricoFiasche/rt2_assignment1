{
 "cells": [
  {
   "cell_type": "markdown",
   "id": "f09b2982",
   "metadata": {},
   "source": [
    "# User Interface - Enrico Fiasché Research Track II\n"
   ]
  },
  {
   "cell_type": "markdown",
   "id": "1c890a77",
   "metadata": {},
   "source": [
    "## Overall description"
   ]
  },
  {
   "cell_type": "markdown",
   "id": "e6dad94b",
   "metadata": {},
   "source": [
    "This notebook replaces the _User Interface_ of the first assignment (you can find it in the other GitHub branch: _action,ros2_).\n",
    "Now the user interface is able of:\n",
    "- starting/stopping the robot \"random position\" behaviour by using two buttons\n",
    "- setting the linear and angular velocity by using two sliders\n",
    "- controlling the robot movements by using 5 buttons (on for each direction + button stop)\n",
    "\n",
    "The notebook has a section for displaying some graphical information, in particular:\n",
    "- a line plot for compare the cmd_vel and actual velocity (odom)\n",
    "- a bar plot displaying the number of reached targets and canceled targets\n",
    "- a hist plot showing the time required to reach targets\n",
    "- an xy graph showing the robot's position and orientation"
   ]
  },
  {
   "cell_type": "markdown",
   "id": "ebf1fd9a",
   "metadata": {},
   "source": [
    "## Headers"
   ]
  },
  {
   "cell_type": "code",
   "execution_count": 2,
   "id": "5a3ae2d6",
   "metadata": {
    "ExecuteTime": {
     "end_time": "2021-07-21T19:19:58.518384Z",
     "start_time": "2021-07-21T19:19:55.200970Z"
    }
   },
   "outputs": [],
   "source": [
    "import rospy\n",
    "import jupyros as jr\n",
    "import ipywidgets as widgets\n",
    "from IPython.display import display, clear_output\n",
    "from ipywidgets import Button, Layout, ButtonStyle, GridBox, VBox, HBox\n",
    "\n",
    "import math \n",
    "import time\n",
    "\n",
    "import actionlib\n",
    "import rt2_assignment1.msg\n",
    "from rt2_assignment1.srv import Command\n",
    "from geometry_msgs.msg import Twist\n",
    "from nav_msgs.msg import Odometry\n",
    "from std_msgs.msg import Int32, Bool\n",
    "\n",
    "import numpy as np\n",
    "import matplotlib.pyplot as plt\n",
    "from matplotlib.animation import FuncAnimation\n",
    "from tf.transformations import euler_from_quaternion\n",
    "\n",
    "%matplotlib widget"
   ]
  },
  {
   "cell_type": "markdown",
   "id": "43531742",
   "metadata": {},
   "source": [
    "## ROS node start\n",
    "Creating the ros node _user_interface_ and connecting to the action server _go_to_point_."
   ]
  },
  {
   "cell_type": "code",
   "execution_count": 3,
   "id": "e84f7f22",
   "metadata": {
    "ExecuteTime": {
     "end_time": "2021-07-21T19:19:58.950311Z",
     "start_time": "2021-07-21T19:19:58.551178Z"
    }
   },
   "outputs": [
    {
     "name": "stdout",
     "output_type": "stream",
     "text": [
      "Connected!\n"
     ]
    }
   ],
   "source": [
    "rospy.init_node('user_interface')\n",
    "ui_client = rospy.ServiceProxy('/user_interface', Command)\n",
    "\n",
    "# action client used to cancel the goal\n",
    "action_client = actionlib.SimpleActionClient(\"go_to_point\",rt2_assignment1.msg.PositionAction)\n",
    "if(action_client.wait_for_server()):\n",
    "    print(\"Connected!\")\n",
    "else:\n",
    "    print(\"Unable to connect with the action server\")\n",
    "    \n",
    "lin_vel = 0.2\n",
    "ang_vel = -3.0"
   ]
  },
  {
   "cell_type": "markdown",
   "id": "331d518b",
   "metadata": {},
   "source": [
    "## Buttons and sliders"
   ]
  },
  {
   "cell_type": "markdown",
   "id": "1d29605d",
   "metadata": {},
   "source": [
    "### Start & Stop\n",
    "There is also a text showing the actual status of the robot."
   ]
  },
  {
   "cell_type": "code",
   "execution_count": 4,
   "id": "8a3e6021",
   "metadata": {
    "ExecuteTime": {
     "end_time": "2021-07-21T19:20:01.339206Z",
     "start_time": "2021-07-21T19:20:01.101956Z"
    },
    "scrolled": true
   },
   "outputs": [
    {
     "data": {
      "application/vnd.jupyter.widget-view+json": {
       "model_id": "86993d0345434a5b92ca78ffaa5d3bd7",
       "version_major": 2,
       "version_minor": 0
      },
      "text/plain": [
       "GridBox(children=(Button(description='START', layout=Layout(grid_area='b1', width='200'), style=ButtonStyle(bu…"
      ]
     },
     "metadata": {},
     "output_type": "display_data"
    },
    {
     "data": {
      "text/plain": [
       "'Robot stopped!'"
      ]
     },
     "metadata": {},
     "output_type": "display_data"
    }
   ],
   "source": [
    "start_sim = Button(description='START',\n",
    "            layout=Layout(width='200', align=\"center\", grid_area='b1'),\n",
    "            style=ButtonStyle(button_color='lightgreen'))\n",
    "stop_sim = Button(description='STOP',\n",
    "            layout=Layout(width='200', align=\"center\", grid_area='b2'),\n",
    "            style=ButtonStyle(button_color='salmon'))\n",
    "\n",
    "HBox([start_sim,stop_sim])\n",
    "\n",
    "grid = GridBox(children=[start_sim, stop_sim],\n",
    "        layout=Layout(\n",
    "        width='40%',\n",
    "        grid_template_rows='auto auto',\n",
    "        grid_template_columns='33% 15% 33%',\n",
    "        grid_template_areas=''' \"b1 . b2 \" ''')\n",
    "        )\n",
    "\n",
    "display(grid)\n",
    "starting_time = 0\n",
    "status = \"idle\"\n",
    "def start(event):\n",
    "    global starting_time\n",
    "    \n",
    "    ui_client(\"start\")\n",
    "    starting_time = rospy.Time.now()\n",
    "    clear_output(wait=True)\n",
    "    status = \"started!\"\n",
    "    display(grid)\n",
    "    display('Robot '+status)\n",
    "    \n",
    "def stop(event):\n",
    "    action_client.cancel_all_goals()\n",
    "    ui_client(\"stop\")\n",
    "    clear_output(wait=True)\n",
    "    status = \"stopped!\"\n",
    "    display(grid)\n",
    "    display('Robot '+status)\n",
    "    \n",
    "start_sim.on_click(start)\n",
    "stop_sim.on_click(stop)\n",
    "display('Robot '+status)"
   ]
  },
  {
   "cell_type": "markdown",
   "id": "ce59b525",
   "metadata": {},
   "source": [
    "### Sliders\n",
    "The two sliders start from the initial value (lin = 0.2, ang = -3.0) set in the _go_to_point_ file."
   ]
  },
  {
   "cell_type": "code",
   "execution_count": 5,
   "id": "9463608e",
   "metadata": {
    "ExecuteTime": {
     "end_time": "2021-07-21T19:20:06.868129Z",
     "start_time": "2021-07-21T19:20:06.715656Z"
    }
   },
   "outputs": [
    {
     "data": {
      "application/vnd.jupyter.widget-view+json": {
       "model_id": "5a2ce9960fd04dc5a4fa74a1a71e52ec",
       "version_major": 2,
       "version_minor": 0
      },
      "text/plain": [
       "HBox(children=(VBox(children=(FloatSlider(value=0.2, description='linear_velocity', max=0.6), FloatSlider(valu…"
      ]
     },
     "metadata": {},
     "output_type": "display_data"
    }
   ],
   "source": [
    "linear_slider = widgets.FloatSlider(value=0.2, min=0, max=0.6, step=0.1, description='linear_velocity')\n",
    "angular_slider = widgets.FloatSlider(value=-3.0, min=-5.0, max=0, step=0.5, description='angular_velocity')\n",
    "\n",
    "def on_linear_change(change):\n",
    "    global lin_vel, ang_vel\n",
    "    \n",
    "    const_twist = Twist()\n",
    "    lin_vel = change['new']\n",
    "    const_twist.linear.x = lin_vel\n",
    "    const_twist.angular.z = ang_vel\n",
    "    pub_consts.publish(const_twist)\n",
    "    \n",
    "def on_angular_change(change):\n",
    "    global lin_vel, ang_vel\n",
    "    \n",
    "    const_twist = Twist()\n",
    "    ang_vel = change['new']\n",
    "    const_twist.linear.x = lin_vel\n",
    "    const_twist.angular.z = ang_vel\n",
    "    pub_consts.publish(const_twist)\n",
    "\n",
    "pub_consts = rospy.Publisher('/consts', Twist, queue_size=1)\n",
    "linear_slider.observe(on_linear_change, names='value')\n",
    "angular_slider.observe(on_angular_change, names='value')\n",
    "\n",
    "widgets.HBox([widgets.VBox([linear_slider, angular_slider])])"
   ]
  },
  {
   "cell_type": "markdown",
   "id": "7eceafff",
   "metadata": {},
   "source": [
    "### Controller\n",
    "Four directional buttons and one stop button."
   ]
  },
  {
   "cell_type": "code",
   "execution_count": 6,
   "id": "a32a459b",
   "metadata": {
    "ExecuteTime": {
     "end_time": "2021-07-21T19:20:09.210381Z",
     "start_time": "2021-07-21T19:20:08.920755Z"
    }
   },
   "outputs": [
    {
     "data": {
      "application/vnd.jupyter.widget-view+json": {
       "model_id": "e7989e9513a740a28a5429315bab652d",
       "version_major": 2,
       "version_minor": 0
      },
      "text/plain": [
       "GridBox(children=(Button(description='^', layout=Layout(grid_area='b1', width='auto'), style=ButtonStyle(butto…"
      ]
     },
     "metadata": {},
     "output_type": "display_data"
    }
   ],
   "source": [
    "up_arrow = Button(description='^',\n",
    "            layout=Layout(width='auto', align=\"center\", grid_area='b1'),\n",
    "            style=ButtonStyle(button_color='lightgreen'))\n",
    "down_arrow = Button(description='v',\n",
    "            layout=Layout(width='auto', align=\"center\", grid_area='b5'),\n",
    "            style=ButtonStyle(button_color='lightgreen'))\n",
    "left_arrow = Button(description='<',\n",
    "            layout=Layout(width='auto', align=\"center\", grid_area='b2'),\n",
    "            style=ButtonStyle(button_color='lightgreen'))\n",
    "right_arrow = Button(description='>',\n",
    "            layout=Layout(width='auto', align=\"center\", grid_area='b4'),\n",
    "            style=ButtonStyle(button_color='lightgreen'))\n",
    "stopRobot_button = Button(description='STOP',\n",
    "            layout=Layout(width='auto', align=\"center\", grid_area='b3'),\n",
    "            style=ButtonStyle(button_color='salmon'))\n",
    "\n",
    "controller_grid = GridBox(children=[up_arrow,down_arrow,left_arrow,right_arrow,stopRobot_button],\n",
    "        layout=Layout(\n",
    "        width='40%',\n",
    "        grid_template_rows='auto auto',\n",
    "        grid_template_columns='25% 10% 20% 20% 20%',\n",
    "        grid_template_areas='''\n",
    "        \". . . b1 . \"\n",
    "        \"b3 . b2 b5 b4\"\n",
    "        ''')\n",
    "        )\n",
    "\n",
    "def up(event):\n",
    "    global lin_vel\n",
    "    \n",
    "    action_client.cancel_all_goals()\n",
    "    ui_client(\"stop\")\n",
    "    twist_msg = Twist()\n",
    "    twist_msg.linear.x = lin_vel\n",
    "    twist_msg.angular.z = 0.0\n",
    "    twist_pub.publish(twist_msg)\n",
    "\n",
    "def down(event):\n",
    "    global lin_vel\n",
    "    \n",
    "    action_client.cancel_all_goals()\n",
    "    ui_client(\"stop\")\n",
    "    twist_msg = Twist()\n",
    "    twist_msg.linear.x = -lin_vel\n",
    "    twist_msg.angular.z = 0.0\n",
    "    twist_pub.publish(twist_msg)\n",
    "\n",
    "def left(event):\n",
    "    global ang_vel\n",
    "    \n",
    "    action_client.cancel_all_goals()\n",
    "    ui_client(\"stop\")\n",
    "    twist_msg = Twist()\n",
    "    twist_msg.linear.x = 0.0\n",
    "    twist_msg.angular.z = ang_vel*0.3\n",
    "    twist_pub.publish(twist_msg)\n",
    "    \n",
    "def right(event):\n",
    "    global ang_vel\n",
    "    \n",
    "    action_client.cancel_all_goals()\n",
    "    ui_client(\"stop\")\n",
    "    twist_msg = Twist()\n",
    "    twist_msg.linear.x = 0.0\n",
    "    twist_msg.angular.z = -ang_vel*0.3\n",
    "    twist_pub.publish(twist_msg)\n",
    "    \n",
    "def stopRobot(event):\n",
    "    global lin_vel, ang_vel\n",
    "    \n",
    "    action_client.cancel_all_goals()\n",
    "    ui_client(\"stop\")\n",
    "    twist_msg = Twist()\n",
    "    twist_msg.linear.x = 0.0\n",
    "    twist_msg.angular.z = 0.0\n",
    "    twist_pub.publish(twist_msg)\n",
    "    \n",
    "display(controller_grid)\n",
    "twist_pub = rospy.Publisher('/cmd_vel', Twist, queue_size=1)\n",
    "\n",
    "up_arrow.on_click(up)\n",
    "down_arrow.on_click(down)\n",
    "left_arrow.on_click(left)\n",
    "right_arrow.on_click(right)\n",
    "stopRobot_button.on_click(stopRobot)"
   ]
  },
  {
   "cell_type": "markdown",
   "id": "4fdfc998",
   "metadata": {},
   "source": [
    "# Graphical Information"
   ]
  },
  {
   "cell_type": "markdown",
   "id": "37151779",
   "metadata": {
    "ExecuteTime": {
     "end_time": "2021-07-19T12:13:06.240773Z",
     "start_time": "2021-07-19T12:13:06.235890Z"
    }
   },
   "source": [
    "## Velocities (_cmd\\_vel_ vs. _odom_)\n",
    "Plot showing the differences between the velocity sent by the program and the real velocity read from the robot odometry.\n",
    "\n",
    "Please notice that if the robot is stopped the _cmd_vel_ is not published, while the _odom_ is always active, so is recommended to start it when the robot is moving aroung the environment."
   ]
  },
  {
   "cell_type": "code",
   "execution_count": 10,
   "id": "8bcda0a8",
   "metadata": {
    "ExecuteTime": {
     "end_time": "2021-07-21T19:20:30.640098Z",
     "start_time": "2021-07-21T19:20:30.148197Z"
    },
    "scrolled": true
   },
   "outputs": [
    {
     "data": {
      "application/vnd.jupyter.widget-view+json": {
       "model_id": "c16e06ee14344e37ad5f614fed5de9fd",
       "version_major": 2,
       "version_minor": 0
      },
      "text/plain": [
       "Canvas(toolbar=Toolbar(toolitems=[('Home', 'Reset original view', 'home', 'home'), ('Back', 'Back to previous …"
      ]
     },
     "metadata": {},
     "output_type": "display_data"
    }
   ],
   "source": [
    "fig_vel = plt.figure(1)\n",
    "ax_lin = fig_vel.add_subplot(211)\n",
    "ax_ang = fig_vel.add_subplot(212)\n",
    "\n",
    "plot_cmd_lin, = ax_lin.plot([], [], label=\"lin_cmd\")\n",
    "plot_cmd_ang, = ax_ang.plot([], [], label=\"ang_cmd\")\n",
    "plot_odom_lin, = ax_lin.plot([], [], label=\"lin_odom\")\n",
    "plot_odom_ang, = ax_ang.plot([], [], label=\"ang_odom\")\n",
    "\n",
    "plots = [plot_cmd_lin, plot_cmd_ang, plot_odom_lin, plot_odom_ang]\n",
    "\n",
    "ax_lin.set(xlabel='Time', ylabel='Amplitude')\n",
    "ax_lin.set_title(\"Linear velocity\")\n",
    "\n",
    "ax_ang.set(xlabel='Time', ylabel='Amplitude')\n",
    "ax_ang.set_title(\"Angular velocity\")\n",
    "\n",
    "ax_lin.legend()\n",
    "ax_ang.legend()\n",
    "\n",
    "time_cmd, time_odom, lin_cmd, ang_cmd, lin_odom, ang_odom = [], [], [], [], [], []\n",
    "\n",
    "def cmd_callback(cmd_msg):\n",
    "    global lin_cmd, ang_cmd, time_cmd\n",
    "    \n",
    "    lin_cmd.append(cmd_msg.linear.x)\n",
    "    ang_cmd.append(cmd_msg.angular.z)\n",
    "    \n",
    "    if(len(time_cmd) == 0):\n",
    "        time_cmd.append(0.05)\n",
    "    else:\n",
    "        time_cmd.append(time_cmd[len(time_cmd)-1]+0.05)\n",
    "    \n",
    "\n",
    "def odom_callback_velocity(odom_msg):\n",
    "    global lin_odom, ang_odom, time_odom\n",
    "    \n",
    "    lin_odom.append(odom_msg.twist.twist.linear.x)\n",
    "    ang_odom.append(odom_msg.twist.twist.angular.z)\n",
    "    \n",
    "    if(len(time_odom) == 0):\n",
    "        time_odom.append(0.05)\n",
    "    else:\n",
    "        time_odom.append(time_odom[len(time_odom)-1]+0.05)\n",
    "\n",
    "def plot_init():\n",
    "   \n",
    "    ax_lin.set_xlim(0,10)\n",
    "    ax_lin.set_ylim(-0.1,0.8)\n",
    "    \n",
    "    ax_ang.set_xlim(0,10)\n",
    "    ax_ang.set_ylim(-0.8,0.8)\n",
    "\n",
    "    return plots,\n",
    "\n",
    "def update_plot(frame):\n",
    "\n",
    "    xmin, xmax = ax_lin.get_xlim()\n",
    "    if len(time_cmd) and time_cmd[len(time_cmd)-1] > xmax:\n",
    "        ax_lin.set_xlim(xmin+10,xmax+10)\n",
    "        ax_lin.figure.canvas.draw()\n",
    "\n",
    "    xmin, xmax = ax_ang.get_xlim()\n",
    "    if len(time_odom) and time_odom[len(time_odom)-1] > xmax:\n",
    "        ax_ang.set_xlim(xmin+10,xmax+10)\n",
    "        ax_ang.figure.canvas.draw()\n",
    "\n",
    "    plot_cmd_lin.set_data(time_cmd, lin_cmd)\n",
    "    plot_cmd_ang.set_data(time_cmd, ang_cmd)\n",
    "    \n",
    "    plot_odom_lin.set_data(time_odom, lin_odom)\n",
    "    plot_odom_ang.set_data(time_odom, ang_odom)\n",
    "    \n",
    "    return plots,\n",
    "\n",
    "jr.subscribe('/cmd_vel', Twist, cmd_callback)\n",
    "rospy.Subscriber('/odom', Odometry, odom_callback_velocity)\n",
    "\n",
    "ani = FuncAnimation(fig_vel, update_plot, init_func=plot_init)\n",
    "fig_vel.show()"
   ]
  },
  {
   "cell_type": "markdown",
   "id": "b3de86eb",
   "metadata": {
    "ExecuteTime": {
     "end_time": "2021-07-18T14:02:17.367182Z",
     "start_time": "2021-07-18T14:02:17.361004Z"
    }
   },
   "source": [
    "## Targets reached and canceled\n",
    "Bar graph plotting the targets reached and the target canceled."
   ]
  },
  {
   "cell_type": "code",
   "execution_count": 8,
   "id": "7524d45b",
   "metadata": {
    "ExecuteTime": {
     "end_time": "2021-07-21T19:20:17.222036Z",
     "start_time": "2021-07-21T19:20:17.067008Z"
    }
   },
   "outputs": [
    {
     "data": {
      "application/vnd.jupyter.widget-view+json": {
       "model_id": "60156bde054c46b0b9bbc2d159d99869",
       "version_major": 2,
       "version_minor": 0
      },
      "text/plain": [
       "Canvas(toolbar=Toolbar(toolitems=[('Home', 'Reset original view', 'home', 'home'), ('Back', 'Back to previous …"
      ]
     },
     "metadata": {},
     "output_type": "display_data"
    }
   ],
   "source": [
    "names = [\"Reached\",\"Canceled\"]\n",
    "values = [0,0]\n",
    "c = [\"lightgreen\",\"salmon\"]\n",
    "\n",
    "fig_targets = plt.figure(2) \n",
    "ax_targets = fig_targets.add_subplot(111)\n",
    "bar_plot = ax_targets.bar(names,values, color=c)\n",
    "\n",
    "ax_targets.set_title('Number of target reached and canceled')\n",
    "ax_targets.set(ylabel='Number of targets')\n",
    "\n",
    "def target_callback(msg):\n",
    "    global values, bar_plot, ax_targets\n",
    "\n",
    "    if(msg.data == 1):\n",
    "        values[0] += 1\n",
    "\n",
    "    elif(msg.data == 0):\n",
    "        values[1] += 1\n",
    "    \n",
    "    bar_plot.remove()\n",
    "    rospy.sleep(0.5)\n",
    "    bar_plot = ax_targets.bar(names,values, color=c)\n",
    "\n",
    "rospy.Subscriber('stateResult', Int32, target_callback)\n",
    "fig_targets.show()"
   ]
  },
  {
   "cell_type": "markdown",
   "id": "9820b004",
   "metadata": {},
   "source": [
    "## Time required to reach a target\n",
    "Histogram plotting on the x axis the time to reach a goal and on the y axis the times a goal has been achieved in a specific time."
   ]
  },
  {
   "cell_type": "code",
   "execution_count": 7,
   "id": "5cff5355",
   "metadata": {
    "ExecuteTime": {
     "end_time": "2021-07-21T19:20:15.257178Z",
     "start_time": "2021-07-21T19:20:14.756887Z"
    },
    "scrolled": true
   },
   "outputs": [
    {
     "data": {
      "application/vnd.jupyter.widget-view+json": {
       "model_id": "f5325e2a6320410a9a0887d517271315",
       "version_major": 2,
       "version_minor": 0
      },
      "text/plain": [
       "Canvas(toolbar=Toolbar(toolitems=[('Home', 'Reset original view', 'home', 'home'), ('Back', 'Back to previous …"
      ]
     },
     "metadata": {},
     "output_type": "display_data"
    }
   ],
   "source": [
    "num_bins = 100\n",
    "times = []\n",
    "\n",
    "fig_times = plt.figure(3)\n",
    "ax_times = fig_times.add_subplot()\n",
    "counts, bins, bars = ax_times.hist([], bins=num_bins)\n",
    "\n",
    "ax_times.set_title(\"Time required to reach a target\")\n",
    "ax_times.set(xlabel=\"Time [s]\", ylabel=\"Times a goal is reached in a specific time\")\n",
    "\n",
    "def times_cb(msg):\n",
    "    global starting_time, times, bars, ax_times, num_bins\n",
    "    \n",
    "    if(msg.data == 1):\n",
    "        finish_time = rospy.Time.now()\n",
    "        \n",
    "        # check possible errors with a previous starting time \n",
    "        if(finish_time.to_sec() - starting_time.to_sec() < 100):\n",
    "            times.append(finish_time.to_sec() - starting_time.to_sec())\n",
    "        \n",
    "        starting_time = rospy.Time.now()\n",
    "        \n",
    "        _ = [b.remove() for b in bars]\n",
    "        counts, bins, bars = ax_times.hist(times, bins=num_bins)\n",
    "\n",
    "rospy.Subscriber('stateResult', Int32, times_cb)\n",
    "fig_times.show()"
   ]
  },
  {
   "cell_type": "markdown",
   "id": "7b6dea48",
   "metadata": {},
   "source": [
    "# Robot position and orientation\n",
    "Graph plotting the x and y position during the simulation and the orientation by using an arrow."
   ]
  },
  {
   "cell_type": "code",
   "execution_count": 9,
   "id": "c8af2132",
   "metadata": {
    "ExecuteTime": {
     "end_time": "2021-07-21T19:20:22.500357Z",
     "start_time": "2021-07-21T19:20:22.283664Z"
    }
   },
   "outputs": [
    {
     "data": {
      "application/vnd.jupyter.widget-view+json": {
       "model_id": "03f50688174b4b29ac989296bc2b4274",
       "version_major": 2,
       "version_minor": 0
      },
      "text/plain": [
       "Canvas(toolbar=Toolbar(toolitems=[('Home', 'Reset original view', 'home', 'home'), ('Back', 'Back to previous …"
      ]
     },
     "metadata": {},
     "output_type": "display_data"
    }
   ],
   "source": [
    "fig_pos = plt.figure(4)\n",
    "ax_pos = fig_pos.add_subplot()\n",
    "\n",
    "plot_odom, = ax_pos.plot([], [], 'ro')\n",
    "\n",
    "ax_pos.set_title(\"Robot position and orientation\")\n",
    "ax_pos.set(xlabel=\"X position\", ylabel=\"Y position\")\n",
    "\n",
    "x_data, y_data = [] , []\n",
    "arrow_module = 1\n",
    "yaw = 0\n",
    "\n",
    "def odom_callback(msg):\n",
    "    global x_data, y_data, yaw\n",
    "    \n",
    "    x_data.append(msg.pose.pose.position.x)\n",
    "    y_data.append(msg.pose.pose.position.y)\n",
    "    \n",
    "    orientation_q = msg.pose.pose.orientation\n",
    "    orientation_list = [orientation_q.x, orientation_q.y, orientation_q.z, orientation_q.w]\n",
    "    \n",
    "    (roll, pitch, yaw) = euler_from_quaternion(orientation_list)\n",
    "\n",
    "def plot_init():\n",
    "    \n",
    "    ax_pos.set_xlim(-5, 5)\n",
    "    ax_pos.set_ylim(-5, 5)\n",
    "    plot_odom.set_data([],[])\n",
    "    \n",
    "    return plot_odom, arrow\n",
    "\n",
    "def update_plot(frame):\n",
    "    plot_odom.set_data(x_data, y_data)\n",
    "    if len(x_data) > 0:\n",
    "        x = x_data[len(x_data)-1]\n",
    "        y = y_data[len(y_data)-1]\n",
    "\n",
    "        arrow.set_position((x,y))\n",
    "        arrow.xy = (x+arrow_module*math.cos(yaw), y+arrow_module*math.sin(yaw))\n",
    "\n",
    "    return plot_odom, arrow\n",
    "\n",
    "rospy.Subscriber('/odom', Odometry, odom_callback)\n",
    "\n",
    "arrow = ax_pos.annotate('',\n",
    "                xy=(arrow_module*math.cos(0), arrow_module*math.sin(0)),\n",
    "                xytext=(0,0),\n",
    "                arrowprops=dict(facecolor='red', shrink=0.05)\n",
    "               )\n",
    "\n",
    "ani = FuncAnimation(fig_pos, update_plot, init_func=plot_init)\n",
    "fig_pos.show()"
   ]
  },
  {
   "cell_type": "code",
   "execution_count": null,
   "id": "85bc0ac3",
   "metadata": {},
   "outputs": [],
   "source": []
  }
 ],
 "metadata": {
  "hide_input": true,
  "kernelspec": {
   "display_name": "Python 3 (ipykernel)",
   "language": "python",
   "name": "python3"
  },
  "language_info": {
   "codemirror_mode": {
    "name": "ipython",
    "version": 3
   },
   "file_extension": ".py",
   "mimetype": "text/x-python",
   "name": "python",
   "nbconvert_exporter": "python",
   "pygments_lexer": "ipython3",
   "version": "3.8.5"
  },
  "varInspector": {
   "cols": {
    "lenName": 16,
    "lenType": 16,
    "lenVar": 40
   },
   "kernels_config": {
    "python": {
     "delete_cmd_postfix": "",
     "delete_cmd_prefix": "del ",
     "library": "var_list.py",
     "varRefreshCmd": "print(var_dic_list())"
    },
    "r": {
     "delete_cmd_postfix": ") ",
     "delete_cmd_prefix": "rm(",
     "library": "var_list.r",
     "varRefreshCmd": "cat(var_dic_list()) "
    }
   },
   "position": {
    "height": "144.85px",
    "left": "529px",
    "right": "20px",
    "top": "121px",
    "width": "350px"
   },
   "types_to_exclude": [
    "module",
    "function",
    "builtin_function_or_method",
    "instance",
    "_Feature"
   ],
   "window_display": false
  }
 },
 "nbformat": 4,
 "nbformat_minor": 5
}
