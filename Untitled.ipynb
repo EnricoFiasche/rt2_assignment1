{
 "cells": [
  {
   "cell_type": "code",
   "execution_count": 1,
   "id": "a6358a95",
   "metadata": {
    "ExecuteTime": {
     "end_time": "2021-07-19T09:14:44.666800Z",
     "start_time": "2021-07-19T09:14:42.876657Z"
    },
    "scrolled": true
   },
   "outputs": [
    {
     "data": {
      "application/vnd.jupyter.widget-view+json": {
       "model_id": "74a02724c4ed4037a59711eb9895844e",
       "version_major": 2,
       "version_minor": 0
      },
      "text/plain": [
       "Canvas(toolbar=Toolbar(toolitems=[('Home', 'Reset original view', 'home', 'home'), ('Back', 'Back to previous …"
      ]
     },
     "metadata": {},
     "output_type": "display_data"
    }
   ],
   "source": [
    "import rospy\n",
    "import jupyros as jr\n",
    "import time\n",
    "from rt2_assignment1.srv import Command\n",
    "import actionlib\n",
    "import rt2_assignment1.msg\n",
    "from ipywidgets import Button, Layout, ButtonStyle, GridBox, VBox, HBox\n",
    "import ipywidgets as widgets\n",
    "from geometry_msgs.msg import Twist\n",
    "from nav_msgs.msg import Odometry\n",
    "\n",
    "rospy.init_node('user_interface')\n",
    "ui_client = rospy.ServiceProxy('/user_interface', Command)\n",
    "\n",
    "# action client used to cancel the goal\n",
    "action_client = actionlib.SimpleActionClient(\"go_to_point\",rt2_assignment1.msg.PositionAction)\n",
    "if(action_client.wait_for_server()):\n",
    "    print(\"Connected!\")\n",
    "else:\n",
    "    print(\"Unable to connect with the action server\")\n",
    "\n",
    "twist_pub = rospy.Publisher('/cmd_vel', Twist, queue_size=1)\n",
    "\n",
    "from std_msgs.msg import Int32, Bool\n",
    "\n",
    "start_sim = Button(description='START',\n",
    "            layout=Layout(width='200', align=\"center\", grid_area='b1'),\n",
    "            style=ButtonStyle(button_color='lightgreen'))\n",
    "stop_sim = Button(description='STOP',\n",
    "            layout=Layout(width='200', align=\"center\", grid_area='b2'),\n",
    "            style=ButtonStyle(button_color='salmon'))\n",
    "\n",
    "HBox([start_sim,stop_sim])\n",
    "\n",
    "grid = GridBox(children=[start_sim, stop_sim],\n",
    "        layout=Layout(\n",
    "        width='40%',\n",
    "        grid_template_rows='auto auto',\n",
    "        grid_template_columns='33% 15% 33%',\n",
    "        grid_template_areas=''' \"b1 . b2 \" ''')\n",
    "        )\n",
    "\n",
    "display(grid)\n",
    "starting_time = 0\n",
    "\n",
    "def start(event):\n",
    "    global starting_time\n",
    "    \n",
    "    ui_client(\"start\")\n",
    "    starting_time = rospy.Time.now()\n",
    "    \n",
    "def stop(event):\n",
    "    action_client.cancel_all_goals()\n",
    "    ui_client(\"stop\")\n",
    "    \n",
    "start_sim.on_click(start)\n",
    "stop_sim.on_click(stop)"
   ]
  },
  {
   "cell_type": "code",
   "execution_count": null,
   "id": "d649bf04",
   "metadata": {},
   "outputs": [],
   "source": [
    "import numpy as np\n",
    "import matplotlib.pyplot as plt\n",
    "from matplotlib.animation import FuncAnimation\n",
    "%matplotlib widget\n",
    "\n",
    "plt.figure(1)\n",
    "fig_vel, (ax_cmd, ax_odom) = plt.subplots(2)\n",
    "\"\"\"\n",
    "plot_cmd_lin, = ax_cmd.plot([], [])\n",
    "plot_cmd_ang, = ax_cmd.plot([], [])\n",
    "plot_odom_lin, = ax_odom.plot([], [])\n",
    "plot_odom_ang, = ax_odom.plot([], [])\n",
    "\"\"\"\n",
    "plot_cmd_lin, = ax_cmd.plot([], [])\n",
    "plot_cmd_ang, = ax_odom.plot([], [])\n",
    "plot_odom_lin, = ax_cmd.plot([], [])\n",
    "plot_odom_ang, = ax_odom.plot([], [])\n",
    "\n",
    "plots = [plot_cmd_lin, plot_cmd_ang, plot_odom_lin, plot_odom_ang]\n",
    "\n",
    "ax_cmd.set(xlabel='Time', ylabel='Amplitude')\n",
    "ax_odom.set(xlabel='Time', ylabel='Amplitude')\n",
    "\n",
    "time_cmd, time_odom, lin_cmd, ang_cmd, lin_odom, ang_odom = [], [], [], [], [], []\n",
    "\n",
    "\n",
    "def cmd_callback(cmd_msg):\n",
    "    global lin_cmd, ang_cmd, time_cmd\n",
    "    \n",
    "    lin_cmd.append(cmd_msg.linear.x)\n",
    "    ang_cmd.append(cmd_msg.angular.z)\n",
    "\n",
    "    if(len(time_cmd) == 0):\n",
    "        time_cmd.append(0.05)\n",
    "    else:\n",
    "        time_cmd.append(time_cmd[len(time_cmd)-1]+0.05)\n",
    "\n",
    "def odom_callback_velocity(odom_msg):\n",
    "    global lin_odom, ang_odom, time_odom\n",
    "    \n",
    "    lin_odom.append(odom_msg.twist.twist.linear.x)\n",
    "    ang_odom.append(odom_msg.twist.twist.angular.z)\n",
    "    \n",
    "    if(len(time_odom) == 0):\n",
    "        time_odom.append(0.05)\n",
    "    else:\n",
    "        time_odom.append(time_odom[len(time_odom)-1]+0.05)\n",
    "    \n",
    "def plot_init():\n",
    "   \n",
    "    ax_cmd.set_xlim(0,5)\n",
    "    ax_cmd.set_ylim(-1.0,1.0)\n",
    "    \n",
    "    ax_odom.set_xlim(0,5)\n",
    "    ax_odom.set_ylim(-1.0,1.0)\n",
    "\n",
    "    return plots,\n",
    "\n",
    "def update_plot(frame):\n",
    "\n",
    "    xmin, xmax = ax_cmd.get_xlim()\n",
    "    if time_cmd[len(time_cmd)-1] > xmax:\n",
    "        ax_cmd.set_xlim(xmin,2*xmax)\n",
    "        ax_cmd.figure.canvas.draw()\n",
    "\n",
    "    xmin, xmax = ax_odom.get_xlim()\n",
    "    if time_odom[len(time_odom)-1] > xmax:\n",
    "        ax_odom.set_xlim(xmin,2*xmax)\n",
    "        ax_odom.figure.canvas.draw()\n",
    "\n",
    "    plot_cmd_lin.set_data(time_cmd, lin_cmd)\n",
    "    plot_cmd_ang.set_data(time_cmd, ang_cmd)\n",
    "    \n",
    "    plot_odom_lin.set_data(time_odom, lin_odom)\n",
    "    plot_odom_ang.set_data(time_odom, ang_odom)\n",
    "    \n",
    "    return plots,\n",
    "\n",
    "jr.subscribe('/cmd_vel', Twist, cmd_callback)\n",
    "jr.subscribe('/odom', Odometry, odom_callback_velocity)\n",
    "\n",
    "ani = FuncAnimation(fig_vel, update_plot, init_func=plot_init)\n",
    "plt.show()"
   ]
  }
 ],
 "metadata": {
  "hide_input": false,
  "kernelspec": {
   "display_name": "Python 3 (ipykernel)",
   "language": "python",
   "name": "python3"
  },
  "language_info": {
   "codemirror_mode": {
    "name": "ipython",
    "version": 3
   },
   "file_extension": ".py",
   "mimetype": "text/x-python",
   "name": "python",
   "nbconvert_exporter": "python",
   "pygments_lexer": "ipython3",
   "version": "3.8.5"
  },
  "varInspector": {
   "cols": {
    "lenName": 16,
    "lenType": 16,
    "lenVar": 40
   },
   "kernels_config": {
    "python": {
     "delete_cmd_postfix": "",
     "delete_cmd_prefix": "del ",
     "library": "var_list.py",
     "varRefreshCmd": "print(var_dic_list())"
    },
    "r": {
     "delete_cmd_postfix": ") ",
     "delete_cmd_prefix": "rm(",
     "library": "var_list.r",
     "varRefreshCmd": "cat(var_dic_list()) "
    }
   },
   "types_to_exclude": [
    "module",
    "function",
    "builtin_function_or_method",
    "instance",
    "_Feature"
   ],
   "window_display": false
  }
 },
 "nbformat": 4,
 "nbformat_minor": 5
}
